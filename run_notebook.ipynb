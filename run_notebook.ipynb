{
 "cells": [
  {
   "cell_type": "code",
   "execution_count": null,
   "metadata": {},
   "outputs": [],
   "source": [
    "import argparse\n",
    "import numpy as np\n",
    "import pandas as pd\n",
    "import os\n",
    "import time\n",
    "from scipy import stats\n",
    "from functions import sequences\n",
    "from functions import get_face_areas\n",
    "from functions.get_models import load_weights_EE, load_weights_LSTM\n",
    "\n",
    "import pickle\n",
    "from select_video_subset import select_video_subset\n",
    "\n",
    "import warnings\n",
    "warnings.filterwarnings('ignore', category = FutureWarning)"
   ]
  }
 ],
 "metadata": {
  "language_info": {
   "name": "python"
  }
 },
 "nbformat": 4,
 "nbformat_minor": 2
}
